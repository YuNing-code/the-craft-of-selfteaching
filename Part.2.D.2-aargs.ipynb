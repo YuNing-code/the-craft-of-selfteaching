{
 "cells": [
  {
   "cell_type": "markdown",
   "metadata": {},
   "source": [
    "# 关于参数（下）"
   ]
  },
  {
   "cell_type": "markdown",
   "metadata": {},
   "source": [
    "## 可以接收一系列值的位置参数"
   ]
  },
  {
   "cell_type": "markdown",
   "metadata": {},
   "source": [
    "如果你在定义参数的时候，在一个*位置参数*（Positional Arguments）前面标注了星号，`*`，那么，这个位置参数可以接收一系列值，在函数内部可以对这一系列值用 `for ... in ...` 循环进行逐一的处理。\n",
    "\n",
    "带一个星号的参数，英文名称是 “Arbitrary Positional Arguments”，姑且翻译为 “随意的位置参数”。\n",
    "\n",
    "还有带两个星号的参数，一会儿会讲到，英文名称是 “Arbitrary Keyword Arguments”，姑且翻译为 “随意的关键字参数”。\n",
    "\n",
    "> 有些中文书籍把 “Arbitrary Positional Arguments” 翻译成 “可变位置参数”。事实上，在这样的地方，无论怎样的中文翻译都是令人觉得非常吃力的。前面的这个翻译还好了，我还见过把 “Arbitrary Keyword Arguments” 翻译成 “武断的关键字参数” 的 —— 我觉得这样的翻译肯定会使读者产生说不明道不白的疑惑。\n",
    ">\n",
    "> 所以，**入门之后就尽量只用英文**是个好策略。虽然刚开始有点吃力，但后面会很省心，很长寿 —— 是呀，少浪费时间、少浪费生命，其实就相当于更长寿了呀！"
   ]
  },
  {
   "cell_type": "code",
   "execution_count": 7,
   "metadata": {},
   "outputs": [
    {
     "name": "stdout",
     "output_type": "stream",
     "text": [
      "Hi, ann!\n",
      "Hi, mike!\n",
      "Hi, john!\n",
      "Hi, zeo!\n"
     ]
    }
   ],
   "source": [
    "def say_hi(*names):\n",
    "    for name in names:\n",
    "        print(f'Hi, {name}!')\n",
    "say_hi()\n",
    "say_hi('ann')\n",
    "say_hi('mike', 'john', 'zeo')"
   ]
  },
  {
   "cell_type": "markdown",
   "metadata": {},
   "source": [
    "`say_hi()` 这一行没有任何输出。因为你在调用函数的时候，没有给它传递任何值，于是，在函数内部代码执行的时候，`name in names` 的值是 `False`，所以，`for` 循环内部的代码没有被执行。"
   ]
  },
  {
   "cell_type": "markdown",
   "metadata": {},
   "source": [
    "在函数内部，是把 `names` 这个参数当作容器处理的 —— 否则也没办法用 `for ... in ...` 来处理。而在调用函数的时候，我们是可以将一个容器传递给函数的 Arbitrary Positional Arguments 的 —— 做法是，在调用函数的时候，在参数前面加上星号 `*`："
   ]
  },
  {
   "cell_type": "code",
   "execution_count": 54,
   "metadata": {},
   "outputs": [
    {
     "name": "stdout",
     "output_type": "stream",
     "text": [
      "Hi, mike!\n",
      "Hi, john!\n",
      "Hi, zeo!\n"
     ]
    }
   ],
   "source": [
    "def say_hi(*names):\n",
    "    for name in names:\n",
    "        print(f'Hi, {name}!')\n",
    "\n",
    "names = ('mike', 'john', 'zeo')\n",
    "say_hi(*names)"
   ]
  },
  {
   "cell_type": "markdown",
   "metadata": {},
   "source": [
    "实际上，因为以上的 `say_hi(*names)` 函数内部就是把接收到的参数当作容器处理的，于是，在调用这个函数的时候，向它传递任何容器都会被同样处理："
   ]
  },
  {
   "cell_type": "code",
   "execution_count": 52,
   "metadata": {
    "scrolled": true
   },
   "outputs": [
    {
     "name": "stdout",
     "output_type": "stream",
     "text": [
      "Hi, P!\n",
      "Hi, y!\n",
      "Hi, t!\n",
      "Hi, h!\n",
      "Hi, o!\n",
      "Hi, n!\n",
      "Hi, 0!\n",
      "Hi, 1!\n",
      "Hi, 2!\n",
      "Hi, 3!\n",
      "Hi, 4!\n",
      "Hi, 5!\n",
      "Hi, 6!\n",
      "Hi, 7!\n",
      "Hi, 8!\n",
      "Hi, 9!\n",
      "Hi, 10!\n",
      "Hi, 9!\n",
      "Hi, 8!\n",
      "Hi, 7!\n",
      "Hi, 6!\n",
      "Hi, 5!\n",
      "Hi, 4!\n",
      "Hi, 3!\n",
      "Hi, 2!\n",
      "Hi, 1!\n",
      "Hi, ann!\n",
      "Hi, mike!\n",
      "Hi, joe!\n"
     ]
    }
   ],
   "source": [
    "def say_hi(*names):\n",
    "    for name in names:\n",
    "        print(f'Hi, {name}!')\n",
    "\n",
    "a_string = 'Python'\n",
    "say_hi(*a_string)\n",
    "\n",
    "a_range = range(10)\n",
    "say_hi(*a_range)\n",
    "\n",
    "a_list = list(range(10, 0, -1))\n",
    "say_hi(*a_list)\n",
    "\n",
    "a_dictionary = {'ann':2321, 'mike':8712, 'joe': 7610}\n",
    "say_hi(*a_dictionary)"
   ]
  },
  {
   "cell_type": "markdown",
   "metadata": {},
   "source": [
    "_在定义可以接收一系列值的位置参数时，建议在函数内部为该变量命名时总是用**复数**_，因为函数内部，总是需要 `for` 循环去迭代元组中的元素，这样的时候，名称的复数形式对代码的可读性很有帮助 —— 注意以上程序第二行。以中文为母语的人，在这个细节上常常感觉 “不堪重负” —— 因为中文的名词没有复数 —— 但必须习惯。（同样的道理，若是用拼音命名变量，就肯定是为将来挖坑……）"
   ]
  },
  {
   "cell_type": "markdown",
   "metadata": {},
   "source": [
    "**注意**：一个函数中，可以接收一系列值的位置参数只能有一个；并且若是还有其它位置参数存在，那就必须把这个可以接收一系列值的位置参数排在所有其它位置参数之后。"
   ]
  },
  {
   "cell_type": "code",
   "execution_count": 10,
   "metadata": {},
   "outputs": [
    {
     "name": "stdout",
     "output_type": "stream",
     "text": [
      "Hello, Mike!\n",
      "Hello, John!\n",
      "Hello, Zeo!\n"
     ]
    }
   ],
   "source": [
    "def say_hi(greeting, *names):\n",
    "    for name in names:\n",
    "        print(f'{greeting}, {name.capitalize()}!')\n",
    "\n",
    "say_hi('Hello', 'mike', 'john', 'zeo')"
   ]
  },
  {
   "cell_type": "markdown",
   "metadata": {},
   "source": [
    "## 为函数的某些参数设定默认值"
   ]
  },
  {
   "cell_type": "markdown",
   "metadata": {},
   "source": [
    "可以在定义函数的时候，为某些参数设定默认值，这些有默认值的参数，又被称作关键字参数（Keyword Arguments）。从这个函数的 “用户” 角度来看，这些设定了默认值的参数，就成了 “可选参数”。"
   ]
  },
  {
   "cell_type": "code",
   "execution_count": 1,
   "metadata": {},
   "outputs": [
    {
     "name": "stdout",
     "output_type": "stream",
     "text": [
      "Hello, mike!\n",
      "Hello, john!\n",
      "Hello, zeo!\n",
      "Hello, Mike!\n",
      "Hello, John!\n",
      "Hello, Zeo!\n"
     ]
    }
   ],
   "source": [
    "def say_hi(greeting, *names, capitalized=False):\n",
    "    for name in names:\n",
    "        if capitalized:\n",
    "            name = name.capitalize()\n",
    "        print(f'{greeting}, {name}!')\n",
    "\n",
    "say_hi('Hello', 'mike', 'john', 'zeo')\n",
    "say_hi('Hello', 'mike', 'john', 'zeo', capitalized=True)"
   ]
  },
  {
   "cell_type": "markdown",
   "metadata": {},
   "source": [
    "## 可以接收一系列值的关键字参数"
   ]
  },
  {
   "cell_type": "markdown",
   "metadata": {},
   "source": [
    "之前我们看到，可以设定一个位置参数（Positional Argument），接收一系列的值，被称作 “Arbitrary Positional Argument”；\n",
    "\n",
    "同样地，*我们也可以设定一个可以接收很多值的关键字参数（Arbitrary Keyword Argument）*。"
   ]
  },
  {
   "cell_type": "code",
   "execution_count": 2,
   "metadata": {},
   "outputs": [
    {
     "name": "stdout",
     "output_type": "stream",
     "text": [
      "Hello, mike!\n",
      "Oh, my darling, ann!\n",
      "Hi, john!\n"
     ]
    }
   ],
   "source": [
    "def say_hi(**names_greetings):\n",
    "    for name, greeting in names_greetings.items():\n",
    "        print(f'{greeting}, {name}!')\n",
    "        \n",
    "say_hi(mike='Hello', ann='Oh, my darling', john='Hi')"
   ]
  },
  {
   "cell_type": "markdown",
   "metadata": {},
   "source": [
    "既然在函数内部，我们在处理接收到的 Arbitrary Keyword Argument 时，用的是对字典的迭代方式，那么，在调用函数的时候，也可以直接使用字典的形式："
   ]
  },
  {
   "cell_type": "code",
   "execution_count": 36,
   "metadata": {},
   "outputs": [
    {
     "data": {
      "text/plain": [
       "dict"
      ]
     },
     "execution_count": 36,
     "metadata": {},
     "output_type": "execute_result"
    },
    {
     "name": "stdout",
     "output_type": "stream",
     "text": [
      "Hello, mike!\n",
      "Oh, my darling, ann!\n",
      "Hi, john!\n",
      "hate, ex!\n",
      "hi, long!\n",
      "now, now!\n"
     ]
    }
   ],
   "source": [
    "from IPython.core.interactiveshell import InteractiveShell\n",
    "InteractiveShell.ast_node_interactivity = \"all\"\n",
    "\n",
    "def say_hi(**names_greetings):\n",
    "    for name, greeting in names_greetings.items():\n",
    "        print(f'{greeting}, {name}!')\n",
    "        \n",
    "a_dictionary = {'mike':'Hello', 'ann':'Oh, my darling', 'john':'Hi'}\n",
    "b_dictionary = {'ex':'hate','long':'hi'}\n",
    "c_dictionary = {'now':'now'}\n",
    "type(b_dictionary)\n",
    "say_hi(**a_dictionary,**b_dictionary,**c_dictionary)\n",
    "\n"
   ]
  },
  {
   "cell_type": "markdown",
   "metadata": {},
   "source": [
    "至于在函数内部，你用什么样的迭代方式去处理这个字典，是你自己的选择："
   ]
  },
  {
   "cell_type": "code",
   "execution_count": 3,
   "metadata": {},
   "outputs": [
    {
     "name": "stdout",
     "output_type": "stream",
     "text": [
      "Hello, mike!\n",
      "Oh, my darling, ann!\n",
      "Hi, john!\n"
     ]
    }
   ],
   "source": [
    "def say_hi_2(**names_greetings):\n",
    "    for name in names_greetings:\n",
    "        print(f'{names_greetings[name]}, {name}!')\n",
    "say_hi_2(mike='Hello', ann='Oh, my darling', john='Hi')"
   ]
  },
  {
   "cell_type": "markdown",
   "metadata": {},
   "source": [
    "## 函数定义时各种参数的排列顺序"
   ]
  },
  {
   "cell_type": "markdown",
   "metadata": {},
   "source": [
    "在定义函数的时候，各种不同类型的参数应该按什么顺序摆放呢？对于之前写过的 `say_hi()` 这个函数，"
   ]
  },
  {
   "cell_type": "code",
   "execution_count": 66,
   "metadata": {},
   "outputs": [
    {
     "name": "stdout",
     "output_type": "stream",
     "text": [
      "Hi, mike!\n",
      "Hi, john!\n",
      "Hi, zeo!\n",
      "Welcome, Mike!\n",
      "Welcome, John!\n",
      "Welcome, Zeo!\n"
     ]
    }
   ],
   "source": [
    "def say_hi(greeting, *names, capitalized=False):\n",
    "    for name in names:\n",
    "        if capitalized:\n",
    "            name = name.capitalize()\n",
    "        print(f'{greeting}, {name}!')\n",
    "\n",
    "say_hi('Hi', 'mike', 'john', 'zeo')\n",
    "say_hi('Welcome', 'mike', 'john', 'zeo', capitalized=True)"
   ]
  },
  {
   "cell_type": "markdown",
   "metadata": {},
   "source": [
    "如果，你想给其中的 `greeting` 参数也设定个默认值怎么办？写成这样好像可以："
   ]
  },
  {
   "cell_type": "code",
   "execution_count": 24,
   "metadata": {},
   "outputs": [
    {
     "name": "stdout",
     "output_type": "stream",
     "text": [
      "Hi, mike!\n",
      "Hi, john!\n",
      "Hi, zeo!\n",
      "\n",
      "Welcome, Mike!\n",
      "Welcome, John!\n",
      "Welcome, Zeo!\n"
     ]
    }
   ],
   "source": [
    "def say_hi(greeting='Hello', *names, capitalized=False):\n",
    "    for name in names:\n",
    "        if capitalized:\n",
    "            name = name.capitalize()\n",
    "        print(f'{greeting}, {name}!')\n",
    "\n",
    "say_hi('Hi', 'mike', 'john', 'zeo')\n",
    "say_hi('Welcome', 'mike', 'john', 'zeo', capitalized=True)"
   ]
  },
  {
   "cell_type": "markdown",
   "metadata": {},
   "source": [
    "但 `greeting` 这个参数虽然有默认值，可这个函数在被调用的时候，还是必须要给出这个参数，否则输出结果出乎你的想象："
   ]
  },
  {
   "cell_type": "code",
   "execution_count": 5,
   "metadata": {},
   "outputs": [
    {
     "name": "stdout",
     "output_type": "stream",
     "text": [
      "mike, john!\n",
      "mike, zeo!\n"
     ]
    }
   ],
   "source": [
    "def say_hi(greeting='Hello', *names, capitalized=False):\n",
    "    for name in names:\n",
    "        if capitalized:\n",
    "            name = name.capitalize()\n",
    "        print(f'{greeting}, {name}!')\n",
    "\n",
    "say_hi('mike', 'john', 'zeo')"
   ]
  },
  {
   "cell_type": "markdown",
   "metadata": {},
   "source": [
    "设定了默认值的 `greeting`，竟然不像你想象的那样是 “可选参数”！所以，你得这样写："
   ]
  },
  {
   "cell_type": "code",
   "execution_count": 67,
   "metadata": {},
   "outputs": [
    {
     "name": "stdout",
     "output_type": "stream",
     "text": [
      "Hello, mike!\n",
      "Hello, john!\n",
      "Hello, zeo!\n",
      "Hi, mike!\n",
      "Hi, john!\n",
      "Hi, zeo!\n"
     ]
    }
   ],
   "source": [
    "def say_hi(*names, greeting='Hello', capitalized=False):\n",
    "    for name in names:\n",
    "        if capitalized:\n",
    "            name = name.capitalize()\n",
    "        print(f'{greeting}, {name}!')\n",
    "\n",
    "say_hi('mike', 'john', 'zeo')\n",
    "say_hi('mike', 'john', 'zeo', greeting='Hi')"
   ]
  },
  {
   "cell_type": "markdown",
   "metadata": {},
   "source": [
    "这是因为函数被调用时，面对许多参数，Python 需要按照既定的规则（即，顺序）判定每个参数究竟是哪一类型的参数：\n",
    "\n",
    "> **Order of Arguments**\n",
    "> 1. Positional\n",
    "> 1. Arbitrary Positional\n",
    "> 1. Keyword\n",
    "> 1. Arbitrary Keyword\n",
    "\n",
    "所以，即便你在定义里写成\n",
    "\n",
    "```python\n",
    "def say_hi(greeting='Hello', *names, capitalized=False):\n",
    "    ...\n",
    "```\n",
    "\n",
    "在调用该函数的时候，无论你写的是\n",
    "```python\n",
    "say_hi('Hi', 'mike', 'john', 'zeo')\n",
    "```\n",
    "\n",
    "还是\n",
    "```python\n",
    "say_hi('mike', 'john', 'zeo')\n",
    "```\n",
    "\n",
    "Python 都会认为接收到的第一个值是 Positional Argument —— 因为在定义中，`greeting` 被放到了 Arbitrary Positional Arguments 之前。"
   ]
  },
  {
   "cell_type": "markdown",
   "metadata": {},
   "source": [
    "**输入多个不同类型的容器，并循环每个容器中的每个元素？怎么做到？**\n",
    "\n",
    "把不同类型转换为相同类型容器并拼接到一个容器中，得到新的拼接容器后在进行循环。*还有别的方法吗？*"
   ]
  },
  {
   "cell_type": "code",
   "execution_count": 124,
   "metadata": {},
   "outputs": [
    {
     "data": {
      "text/plain": [
       "int"
      ]
     },
     "execution_count": 124,
     "metadata": {},
     "output_type": "execute_result"
    },
    {
     "name": "stdout",
     "output_type": "stream",
     "text": [
      "1\n",
      "\n",
      "2\n",
      "\n",
      "3\n",
      "\n",
      "4\n",
      "\n",
      "5\n",
      "\n",
      "6\n",
      "\n",
      "1\n",
      "\n",
      "2\n",
      "\n",
      "3\n",
      "\n",
      "4\n",
      "\n",
      "5\n",
      "\n",
      "6\n",
      "\n",
      "第1个[\"<class 'list'>\"]元素为:[1, 2, 3]\n",
      "\n",
      "第2个[\"<class 'list'>\"]元素为:[4, 5, 6]\n",
      "\n",
      "第3个[\"<class 'tuple'>\"]元素为:(1, 2, 3)\n",
      "\n",
      "第4个[\"<class 'tuple'>\"]元素为:(4, 5, 6)\n",
      "\n",
      "第5个[\"<class 'set'>\"]元素为:{1, 2, 3}\n",
      "\n",
      "第6个[\"<class 'set'>\"]元素为:{4, 5, 6}\n",
      "\n",
      "[1, 2, 3]\n",
      "[4, 5, 6]\n",
      "(1, 2, 3)\n",
      "(4, 5, 6)\n",
      "{1, 2, 3}\n",
      "{4, 5, 6}\n",
      "0,('e', 'dic')\n",
      "1,('f', 'ada')\n",
      "2,('g', 'das')\n",
      "3,('c', 'hi')\n",
      "4,('d', 'iou')\n",
      "5,('h', 'sds')\n",
      "6,('ex', 'hate')\n",
      "7,('long', 'hi')\n",
      "8,('t', 'sd')\n"
     ]
    },
    {
     "ename": "ValueError",
     "evalue": "not enough values to unpack (expected 3, got 2)",
     "output_type": "error",
     "traceback": [
      "\u001b[1;31m---------------------------------------------------------------------------\u001b[0m",
      "\u001b[1;31mValueError\u001b[0m                                Traceback (most recent call last)",
      "\u001b[1;32m<ipython-input-124-510a92c53759>\u001b[0m in \u001b[0;36m<module>\u001b[1;34m\u001b[0m\n\u001b[0;32m     37\u001b[0m \u001b[0mc_dictionary\u001b[0m \u001b[1;33m=\u001b[0m \u001b[1;33m{\u001b[0m\u001b[1;34m'ex'\u001b[0m\u001b[1;33m:\u001b[0m\u001b[1;34m'hate'\u001b[0m\u001b[1;33m,\u001b[0m\u001b[1;34m'long'\u001b[0m\u001b[1;33m:\u001b[0m\u001b[1;34m'hi'\u001b[0m\u001b[1;33m,\u001b[0m\u001b[1;34m't'\u001b[0m\u001b[1;33m:\u001b[0m\u001b[1;34m'sd'\u001b[0m\u001b[1;33m}\u001b[0m\u001b[1;33m\u001b[0m\u001b[1;33m\u001b[0m\u001b[0m\n\u001b[0;32m     38\u001b[0m \u001b[1;33m\u001b[0m\u001b[0m\n\u001b[1;32m---> 39\u001b[1;33m \u001b[0msummarize\u001b[0m\u001b[1;33m(\u001b[0m\u001b[0ma\u001b[0m\u001b[1;33m,\u001b[0m\u001b[0mb\u001b[0m\u001b[1;33m,\u001b[0m\u001b[0ma_list\u001b[0m\u001b[1;33m,\u001b[0m\u001b[0mb_list\u001b[0m\u001b[1;33m,\u001b[0m\u001b[0ma_tuple\u001b[0m\u001b[1;33m,\u001b[0m\u001b[0mb_tuple\u001b[0m\u001b[1;33m,\u001b[0m\u001b[0ma_set\u001b[0m\u001b[1;33m,\u001b[0m\u001b[0mb_set\u001b[0m\u001b[1;33m,\u001b[0m\u001b[1;33m**\u001b[0m\u001b[0ma_dic\u001b[0m\u001b[1;33m,\u001b[0m\u001b[1;33m**\u001b[0m\u001b[0mb_dic\u001b[0m\u001b[1;33m,\u001b[0m\u001b[1;33m**\u001b[0m\u001b[0mc_dictionary\u001b[0m\u001b[1;33m)\u001b[0m\u001b[1;33m\u001b[0m\u001b[1;33m\u001b[0m\u001b[0m\n\u001b[0m",
      "\u001b[1;32m<ipython-input-124-510a92c53759>\u001b[0m in \u001b[0;36msummarize\u001b[1;34m(a, b, *the_containers, **dictionaries)\u001b[0m\n\u001b[0;32m     11\u001b[0m     \u001b[1;32mfor\u001b[0m \u001b[0mi\u001b[0m\u001b[1;33m,\u001b[0m\u001b[0mitem\u001b[0m \u001b[1;32min\u001b[0m \u001b[0menumerate\u001b[0m\u001b[1;33m(\u001b[0m\u001b[0mdictionaries\u001b[0m\u001b[1;33m.\u001b[0m\u001b[0mitems\u001b[0m\u001b[1;33m(\u001b[0m\u001b[1;33m)\u001b[0m\u001b[1;33m)\u001b[0m\u001b[1;33m:\u001b[0m\u001b[1;33m\u001b[0m\u001b[1;33m\u001b[0m\u001b[0m\n\u001b[0;32m     12\u001b[0m         \u001b[0mprint\u001b[0m\u001b[1;33m(\u001b[0m\u001b[1;34mf'{i},{item}'\u001b[0m\u001b[1;33m)\u001b[0m\u001b[1;33m\u001b[0m\u001b[1;33m\u001b[0m\u001b[0m\n\u001b[1;32m---> 13\u001b[1;33m     \u001b[1;32mfor\u001b[0m \u001b[0mi\u001b[0m\u001b[1;33m,\u001b[0m\u001b[0mkey\u001b[0m\u001b[1;33m,\u001b[0m\u001b[0mvalue\u001b[0m \u001b[1;32min\u001b[0m \u001b[0menumerate\u001b[0m\u001b[1;33m(\u001b[0m\u001b[0mdictionaries\u001b[0m\u001b[1;33m.\u001b[0m\u001b[0mitems\u001b[0m\u001b[1;33m(\u001b[0m\u001b[1;33m)\u001b[0m\u001b[1;33m)\u001b[0m\u001b[1;33m:\u001b[0m\u001b[1;33m\u001b[0m\u001b[1;33m\u001b[0m\u001b[0m\n\u001b[0m\u001b[0;32m     14\u001b[0m         \u001b[0mprint\u001b[0m\u001b[1;33m(\u001b[0m\u001b[1;34mf'第{i+1}个dict元素为{key},{value}'\u001b[0m\u001b[1;33m)\u001b[0m             \u001b[1;31m#用zip,range(1,4)和dict同时迭代可以做到编号，但是怎么确定字典中的对数呢\u001b[0m\u001b[1;33m\u001b[0m\u001b[1;33m\u001b[0m\u001b[0m\n\u001b[0;32m     15\u001b[0m     \u001b[1;31m#for i,the_dic in dictionaries:\u001b[0m\u001b[1;33m\u001b[0m\u001b[1;33m\u001b[0m\u001b[1;33m\u001b[0m\u001b[0m\n",
      "\u001b[1;31mValueError\u001b[0m: not enough values to unpack (expected 3, got 2)"
     ]
    }
   ],
   "source": [
    "\n",
    "#总结函数的参数创建\n",
    "from IPython.core.interactiveshell import InteractiveShell\n",
    "InteractiveShell.ast_node_interactivity = \"all\"\n",
    "\n",
    "def summarize(a,b,*the_containers,**dictionaries):\n",
    "    for i,the_container in enumerate(the_containers):\n",
    "        the_type = str(type(the_container)).split(\"<class''>\")\n",
    "        print(f'第{i+1}个{the_type}元素为:{the_container}\\n')    #the type 为啥不如在函数外单纯输出一个变量类型 简洁？\n",
    "    for value in the_containers:\n",
    "        print(value)\n",
    "    for i,item in enumerate(dictionaries.items()):\n",
    "        print(f'{i},{item}')        \n",
    "    for i,key,value in enumerate(dictionaries.items()):\n",
    "        print(f'第{i+1}个dict元素为{key},{value}')             #用zip,range(1,4)和dict同时迭代可以做到编号，但是怎么确定字典中的对数呢\n",
    "    #for i,the_dic in dictionaries:\n",
    "     #   print(f'第{i+1}个{type(the_dic)}为:{the_dic}\\n') 若想打印“第一个dict为:{'a':'2','b':'i'}”的结果，只需Arbitary Positional参数\n",
    "                                                        #因为diet也属于容器，只有当需要得到字典中每对key-value值才用**diet这种参数形式\n",
    "            \n",
    "def com(lists) :\n",
    "    for elem in lists:\n",
    "        print(f'{elem}\\n')\n",
    "        \n",
    "\n",
    "a = 10\n",
    "b = 20\n",
    "type(a)\n",
    "total_sum = list(a_tuple)+list(b_tuple)+a_list+b_list\n",
    "com(total_sum)\n",
    "a_list = [1,2,3]\n",
    "b_list = [4,5,6]\n",
    "a_tuple = (1,2,3)\n",
    "b_tuple = (4,5,6)\n",
    "a_set = {1,2,3}\n",
    "b_set = {4,5,6}\n",
    "a_dic = {'e':'dic','f':'ada','g':'das'}\n",
    "b_dic = {'c':'hi','d':'iou','h':'sds'}\n",
    "c_dictionary = {'ex':'hate','long':'hi','t':'sd'}\n",
    "\n",
    "summarize(a,b,a_list,b_list,a_tuple,b_tuple,a_set,b_set,**a_dic,**b_dic,**c_dictionary)"
   ]
  },
  {
   "cell_type": "markdown",
   "metadata": {},
   "source": [
    "<a href=\"./Part.2.D.3-lambda.ipynb\" ><small>Next Page</small></a>"
   ]
  }
 ],
 "metadata": {
  "kernelspec": {
   "display_name": "Python 3",
   "language": "python",
   "name": "python3"
  },
  "language_info": {
   "codemirror_mode": {
    "name": "ipython",
    "version": 3
   },
   "file_extension": ".py",
   "mimetype": "text/x-python",
   "name": "python",
   "nbconvert_exporter": "python",
   "pygments_lexer": "ipython3",
   "version": "3.8.5"
  },
  "toc-autonumbering": true
 },
 "nbformat": 4,
 "nbformat_minor": 4
}
